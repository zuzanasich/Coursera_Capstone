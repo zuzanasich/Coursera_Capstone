{
    "cells": [
        {
            "cell_type": "markdown",
            "metadata": {
                "collapsed": true
            },
            "source": "# The Battle of Neighborhoods - Norway\n\n\n## Introduction"
        },
        {
            "cell_type": "markdown",
            "metadata": {},
            "source": "Norway is a Scandinavian country in Northen Europe with an extensive coastline broken by huge fjords and thousands of islands. Norway has a lot to offer - whether you prefer art, entertaiment or museums covering everything from the Vikings to seafaring and fishing, or spectacular nature, from its stunning fjords to its majestic mountains and glaciers. \n\nHere we will have a closer look at its two biggest cities - Oslo and Bergen.\nOslo, the capital of Norway, is located on the southern coast at the head of the Oslofjord. Oslo is a cosmopolitan city with a buzzing restaurant, fashion and art scenes whilst maintaining its refreshing closeness to nature. \nBergen, located on southwestern coast of Norway, is an ideal starting point for fjord excursions. The city is mostly known for The UNESCO World Heritage site Bryggen, \u201cThe Hanseatic Wharf\u201d. Bergen is also a UNESCO City of Gastronomy for fresh seafood being the core of Bergen's cuisine. \n\nSince both of the cities have a lots to offer, we will explore and compare the neighborhoods of these two cities in order to help one decide which city to visit based on preferences. \n\n\n\n\n"
        },
        {
            "cell_type": "markdown",
            "metadata": {},
            "source": "## Table of contents\n1. [Data](#data)"
        },
        {
            "cell_type": "markdown",
            "metadata": {},
            "source": "First, let's import all the neccessary dependencies "
        },
        {
            "cell_type": "code",
            "execution_count": 1,
            "metadata": {},
            "outputs": [
                {
                    "name": "stdout",
                    "output_type": "stream",
                    "text": "Solving environment: done\n\n## Package Plan ##\n\n  environment location: /opt/conda/envs/Python36\n\n  added / updated specs: \n    - geopy\n\n\nThe following packages will be downloaded:\n\n    package                    |            build\n    ---------------------------|-----------------\n    geographiclib-1.50         |             py_0          34 KB  conda-forge\n    python_abi-3.6             |          1_cp36m           4 KB  conda-forge\n    ca-certificates-2020.4.5.1 |       hecc5488_0         146 KB  conda-forge\n    geopy-1.22.0               |     pyh9f0ad1d_0          63 KB  conda-forge\n    certifi-2020.4.5.1         |   py36h9f0ad1d_0         151 KB  conda-forge\n    openssl-1.1.1g             |       h516909a_0         2.1 MB  conda-forge\n    ------------------------------------------------------------\n                                           Total:         2.5 MB\n\nThe following NEW packages will be INSTALLED:\n\n    geographiclib:   1.50-py_0           conda-forge\n    geopy:           1.22.0-pyh9f0ad1d_0 conda-forge\n    python_abi:      3.6-1_cp36m         conda-forge\n\nThe following packages will be UPDATED:\n\n    ca-certificates: 2020.1.1-0                      --> 2020.4.5.1-hecc5488_0     conda-forge\n    certifi:         2020.4.5.1-py36_0               --> 2020.4.5.1-py36h9f0ad1d_0 conda-forge\n    openssl:         1.1.1g-h7b6447c_0               --> 1.1.1g-h516909a_0         conda-forge\n\n\nDownloading and Extracting Packages\ngeographiclib-1.50   | 34 KB     | ##################################### | 100% \npython_abi-3.6       | 4 KB      | ##################################### | 100% \nca-certificates-2020 | 146 KB    | ##################################### | 100% \ngeopy-1.22.0         | 63 KB     | ##################################### | 100% \ncertifi-2020.4.5.1   | 151 KB    | ##################################### | 100% \nopenssl-1.1.1g       | 2.1 MB    | ##################################### | 100% \nPreparing transaction: done\nVerifying transaction: done\nExecuting transaction: done\nSolving environment: done\n\n## Package Plan ##\n\n  environment location: /opt/conda/envs/Python36\n\n  added / updated specs: \n    - folium=0.5.0\n\n\nThe following packages will be downloaded:\n\n    package                    |            build\n    ---------------------------|-----------------\n    altair-4.1.0               |             py_1         614 KB  conda-forge\n    folium-0.5.0               |             py_0          45 KB  conda-forge\n    branca-0.4.1               |             py_0          26 KB  conda-forge\n    vincent-0.4.4              |             py_1          28 KB  conda-forge\n    ------------------------------------------------------------\n                                           Total:         713 KB\n\nThe following NEW packages will be INSTALLED:\n\n    altair:  4.1.0-py_1 conda-forge\n    branca:  0.4.1-py_0 conda-forge\n    folium:  0.5.0-py_0 conda-forge\n    vincent: 0.4.4-py_1 conda-forge\n\n\nDownloading and Extracting Packages\naltair-4.1.0         | 614 KB    | ##################################### | 100% \nfolium-0.5.0         | 45 KB     | ##################################### | 100% \nbranca-0.4.1         | 26 KB     | ##################################### | 100% \nvincent-0.4.4        | 28 KB     | ##################################### | 100% \nPreparing transaction: done\nVerifying transaction: done\nExecuting transaction: done\nLibraries imported.\n"
                }
            ],
            "source": "import numpy as np # library to handle data in a vectorized manner\n\nimport pandas as pd # library for data analsysis\npd.set_option('display.max_columns', None)\npd.set_option('display.max_rows', None)\n\nimport json # library to handle JSON files\n\n!conda install -c conda-forge geopy --yes # uncomment this line if you haven't completed the Foursquare API lab\nfrom geopy.geocoders import Nominatim # convert an address into latitude and longitude values\n\nimport requests # library to handle requests\nfrom pandas.io.json import json_normalize # tranform JSON file into a pandas dataframe\n\n# Matplotlib and associated plotting modules\nimport matplotlib.cm as cm\nimport matplotlib.colors as colors\n\n# import k-means from clustering stage\nfrom sklearn.cluster import KMeans\n\n!conda install -c conda-forge folium=0.5.0 --yes # uncomment this line if you haven't completed the Foursquare API lab\nimport folium # map rendering library\n\nprint('Libraries imported.')"
        },
        {
            "cell_type": "markdown",
            "metadata": {},
            "source": "## Data <a name=\"data\"></a>\nWe will use geographical coordinates for Oslo and Bergen to obtain data from Foursquare and create a map for both cities. Then we will use this information to create a map \nWe will use Foursquare location data to explore top 100 venues in Oslo and Bergen and interesting venues within 5 km radius from the cities. After that, we will cluster the venues and explore and visualize, which clusters dominate in each city. The will help us determine, which city has better restaurant, art and museums or outdoors options. "
        },
        {
            "cell_type": "markdown",
            "metadata": {},
            "source": "#### List of Postal Codes in Norway\nDownload the postcodes from Bring.no"
        },
        {
            "cell_type": "code",
            "execution_count": 16,
            "metadata": {},
            "outputs": [
                {
                    "data": {
                        "text/html": "<div>\n<style scoped>\n    .dataframe tbody tr th:only-of-type {\n        vertical-align: middle;\n    }\n\n    .dataframe tbody tr th {\n        vertical-align: top;\n    }\n\n    .dataframe thead th {\n        text-align: right;\n    }\n</style>\n<table border=\"1\" class=\"dataframe\">\n  <thead>\n    <tr style=\"text-align: right;\">\n      <th></th>\n      <th>Postcode</th>\n      <th>Postal_name</th>\n      <th>Municipality_number</th>\n      <th>Municipality_name</th>\n      <th>Category</th>\n    </tr>\n  </thead>\n  <tbody>\n    <tr>\n      <th>0</th>\n      <td>1</td>\n      <td>OSLO</td>\n      <td>301</td>\n      <td>OSLO</td>\n      <td>P</td>\n    </tr>\n    <tr>\n      <th>1</th>\n      <td>10</td>\n      <td>OSLO</td>\n      <td>301</td>\n      <td>OSLO</td>\n      <td>B</td>\n    </tr>\n    <tr>\n      <th>2</th>\n      <td>15</td>\n      <td>OSLO</td>\n      <td>301</td>\n      <td>OSLO</td>\n      <td>B</td>\n    </tr>\n    <tr>\n      <th>3</th>\n      <td>18</td>\n      <td>OSLO</td>\n      <td>301</td>\n      <td>OSLO</td>\n      <td>G</td>\n    </tr>\n    <tr>\n      <th>4</th>\n      <td>21</td>\n      <td>OSLO</td>\n      <td>301</td>\n      <td>OSLO</td>\n      <td>P</td>\n    </tr>\n  </tbody>\n</table>\n</div>",
                        "text/plain": "   Postcode Postal_name  Municipality_number Municipality_name Category\n0         1        OSLO                  301              OSLO        P\n1        10        OSLO                  301              OSLO        B\n2        15        OSLO                  301              OSLO        B\n3        18        OSLO                  301              OSLO        G\n4        21        OSLO                  301              OSLO        P"
                    },
                    "execution_count": 16,
                    "metadata": {},
                    "output_type": "execute_result"
                }
            ],
            "source": "link = 'https://www.bring.no/english/advising/sending-something-with-bring/address-verification-services/postcodes/_/attachment/download/348e458b-ff09-4a74-8023-f242ea27d193:032b0212a7f1a257538aaf812265bcba53a6d813/Postal-codes-Norway-Excel.xlsx'\npostalcodes = pd.read_excel(link)\npostalcodes.head()"
        },
        {
            "cell_type": "code",
            "execution_count": 8,
            "metadata": {},
            "outputs": [
                {
                    "name": "stdout",
                    "output_type": "stream",
                    "text": "Your credentails:\nCLIENT_ID: XXXXXXXXXXXXXXX\nCLIENT_SECRET:XXXXXXXXXXXXXXX\n"
                }
            ],
            "source": "CLIENT_ID = 'XXXXXXXXXXXXXXX' # your Foursquare ID\nCLIENT_SECRET = 'XXXXXXXXXXXXXXX' # your Foursquare Secret\nVERSION = '20180605' # Foursquare API version\n\nprint('Your credentails:')\nprint('CLIENT_ID: ' + CLIENT_ID)\nprint('CLIENT_SECRET:' + CLIENT_SECRET)"
        },
        {
            "cell_type": "code",
            "execution_count": 5,
            "metadata": {},
            "outputs": [
                {
                    "name": "stdout",
                    "output_type": "stream",
                    "text": "The geograpical coordinate of Oslo are 59.9133301, 10.7389701.\n"
                }
            ],
            "source": "address_oslo = 'Oslo, Norway'\ngeolocator_oslo = Nominatim(user_agent=\"oslo_explorer\")\nlocation_oslo = geolocator_oslo.geocode(address_oslo)\nlatitude_oslo = location_oslo.latitude\nlongitude_oslo = location_oslo.longitude\nprint('The geograpical coordinate of Oslo are {}, {}.'.format(latitude_oslo, longitude_oslo))"
        },
        {
            "cell_type": "code",
            "execution_count": 7,
            "metadata": {},
            "outputs": [
                {
                    "name": "stdout",
                    "output_type": "stream",
                    "text": "The geograpical coordinate of Bergen are 59.9133301, 10.7389701.\n"
                }
            ],
            "source": "address_bergen = 'Bergen, Norway'\ngeolocator_bergen = Nominatim(user_agent=\"bergen_explorer\")\nlocation_bergen = geolocator_bergen.geocode(address_bergen)\nlatitude_bergen = location_bergen.latitude\nlongitude_bergen = location_bergen.longitude\nprint('The geograpical coordinate of Bergen are {}, {}.'.format(latitude_oslo, longitude_oslo))"
        },
        {
            "cell_type": "code",
            "execution_count": null,
            "metadata": {},
            "outputs": [],
            "source": ""
        }
    ],
    "metadata": {
        "kernelspec": {
            "display_name": "Python 3.6",
            "language": "python",
            "name": "python3"
        },
        "language_info": {
            "codemirror_mode": {
                "name": "ipython",
                "version": 3
            },
            "file_extension": ".py",
            "mimetype": "text/x-python",
            "name": "python",
            "nbconvert_exporter": "python",
            "pygments_lexer": "ipython3",
            "version": "3.6.9"
        }
    },
    "nbformat": 4,
    "nbformat_minor": 1
}